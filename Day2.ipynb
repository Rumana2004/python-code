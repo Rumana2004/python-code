{
 "cells": [
  {
   "cell_type": "code",
   "execution_count": 1,
   "id": "c250c0e5-b256-4a46-99b4-744c6803571d",
   "metadata": {},
   "outputs": [
    {
     "name": "stdin",
     "output_type": "stream",
     "text": [
      "Enter your name rumana\n",
      "enter age 19\n"
     ]
    },
    {
     "name": "stdout",
     "output_type": "stream",
     "text": [
      "rumana\n",
      " eligible to vote\n"
     ]
    },
    {
     "data": {
      "text/plain": [
       "int"
      ]
     },
     "execution_count": 1,
     "metadata": {},
     "output_type": "execute_result"
    }
   ],
   "source": [
    "#if else example\n",
    "name=input(\"Enter your name\")\n",
    "age=int(input(\"enter age\"))\n",
    "if age>=18:\n",
    "    print(name)\n",
    "    print(\" eligible to vote\")\n",
    "else:\n",
    "    print(name)\n",
    "    print(\"not eligible to vote\")\n",
    "type(age)    "
   ]
  },
  {
   "cell_type": "code",
   "execution_count": 2,
   "id": "52b51f31-c6b2-4784-9ddf-eaea382c93d8",
   "metadata": {},
   "outputs": [
    {
     "name": "stdin",
     "output_type": "stream",
     "text": [
      "enter 1st number 54\n",
      "enter 2nd number 22\n"
     ]
    },
    {
     "name": "stdout",
     "output_type": "stream",
     "text": [
      "54\n",
      "number 1 is greater\n"
     ]
    }
   ],
   "source": [
    "#largest of 2 numbers\n",
    "num1=int(input(\"enter 1st number\"))\n",
    "num2=int(input(\"enter 2nd number\"))\n",
    "if num1>=num2:\n",
    "    print(num1)\n",
    "    print(\"number 1 is greater\")\n",
    "else:\n",
    "    print(num2)\n",
    "    print(\"num 2 is greater\")\n"
   ]
  },
  {
   "cell_type": "code",
   "execution_count": 3,
   "id": "9596abb9-63d7-447c-9853-4b1dd5265644",
   "metadata": {},
   "outputs": [
    {
     "name": "stdin",
     "output_type": "stream",
     "text": [
      " 54\n",
      " 14\n",
      " 25\n"
     ]
    },
    {
     "name": "stdout",
     "output_type": "stream",
     "text": [
      "a is largest\n"
     ]
    }
   ],
   "source": [
    "#largest of 3 numbers\n",
    "a=int(input())\n",
    "b=int(input())\n",
    "c=int(input())\n",
    "if a>b:\n",
    "    if a>c:\n",
    "        print(\"a is largest\")\n",
    "    else:\n",
    "        print(\"c is largest\")\n",
    "else:\n",
    "    if b>c:\n",
    "        print(\"b is largest\")\n",
    "    else:\n",
    "        print(\"c is largest\")"
   ]
  },
  {
   "cell_type": "code",
   "execution_count": 4,
   "id": "e20f946b-9e47-477f-ba82-0f8b85f67e4c",
   "metadata": {},
   "outputs": [
    {
     "name": "stdin",
     "output_type": "stream",
     "text": [
      " 45\n"
     ]
    },
    {
     "name": "stdout",
     "output_type": "stream",
     "text": [
      "grade is D\n"
     ]
    }
   ],
   "source": [
    "marks=int(input())\n",
    "if marks>=90 and marks<=100:\n",
    "    print(\"grade A+\")\n",
    "elif marks>=80 and marks<90:\n",
    "    print(\"grade is A\")\n",
    "elif marks>=70 and marks<80:\n",
    "    print(\"grade is B+\")\n",
    "elif marks>=60 and marks<70:\n",
    "    print(\"grade is B\")\n",
    "elif marks>=50 and marks<60:\n",
    "    print(\"grade is C+\")\n",
    "elif marks>=40 and marks<50:\n",
    "    print(\"grade is D\")\n",
    "elif marks>=30 and marks<40:\n",
    "    print(\"grade is E\")\n",
    "elif marks>=20 and marks<30:\n",
    "    print(\"grade is F\")\n",
    "else:\n",
    "    print(\"Invalid marks\")\n",
    "    \n",
    "    "
   ]
  },
  {
   "cell_type": "code",
   "execution_count": 5,
   "id": "f22090bf-2356-4173-adde-861ec69f0566",
   "metadata": {},
   "outputs": [
    {
     "name": "stdout",
     "output_type": "stream",
     "text": [
      "* \n",
      "* * \n",
      "* * * \n",
      "* * * * \n",
      "* * * * * \n",
      "* * * * * * \n",
      "* * * * * * * \n",
      "* * * * * * * * \n",
      "* * * * * * * * * \n",
      "* * * * * * * * * * \n"
     ]
    }
   ],
   "source": [
    "for y in range(0,10):\n",
    "    for x in range(0,y+1):\n",
    "        print(\"*\",end=\" \")\n",
    "    print()"
   ]
  },
  {
   "cell_type": "code",
   "execution_count": 7,
   "id": "73b9d83a-d2bc-4a7d-9a78-d7537a84665c",
   "metadata": {},
   "outputs": [
    {
     "name": "stdout",
     "output_type": "stream",
     "text": [
      "3\n",
      "5\n",
      "8\n",
      "13\n",
      "21\n",
      "34\n",
      "55\n",
      "89\n"
     ]
    }
   ],
   "source": [
    "n=10\n",
    "num1=1\n",
    "num2=2\n",
    "temp=num2\n",
    "for x in range(0,n-2):\n",
    "    temp=num1+num2\n",
    "    num1=num2\n",
    "    num2=temp\n",
    "    print(temp)"
   ]
  },
  {
   "cell_type": "code",
   "execution_count": null,
   "id": "055d7779-09d5-42ea-bc2d-992b739e44b2",
   "metadata": {},
   "outputs": [],
   "source": []
  }
 ],
 "metadata": {
  "kernelspec": {
   "display_name": "Python 3 (ipykernel)",
   "language": "python",
   "name": "python3"
  },
  "language_info": {
   "codemirror_mode": {
    "name": "ipython",
    "version": 3
   },
   "file_extension": ".py",
   "mimetype": "text/x-python",
   "name": "python",
   "nbconvert_exporter": "python",
   "pygments_lexer": "ipython3",
   "version": "3.12.3"
  }
 },
 "nbformat": 4,
 "nbformat_minor": 5
}
