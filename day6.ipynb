{
 "cells": [
  {
   "cell_type": "code",
   "execution_count": 10,
   "id": "e4697d28-5b03-41ba-b126-1f904d01226f",
   "metadata": {},
   "outputs": [
    {
     "name": "stdout",
     "output_type": "stream",
     "text": [
      "engine: 550cc \n",
      " regplate: 2305 \n",
      " price: 6000000 \n",
      " colour: black \n",
      "\n",
      "type: wr \n",
      " passenger: 500 \n",
      " speed: 100km/hr \n",
      "\n"
     ]
    }
   ],
   "source": [
    "#oops concept examples\n",
    "class vehicle:\n",
    "    def __init__(self,a,b,c,d):\n",
    "        self.engine=a\n",
    "        self.regplate=b\n",
    "        self.price=c\n",
    "        self.colour=d\n",
    "    def show(self):\n",
    "        print(\"engine:\",self.engine,'\\n',\"regplate:\",self.regplate,'\\n',\"price:\",self.price,'\\n',\"colour:\",self.colour,'\\n')\n",
    "\n",
    "class car(vehicle):\n",
    "    def __init__(self,a,b,c,d,e,f,g):\n",
    "        super().__init__(a,b,c,d)\n",
    "        self.type=e\n",
    "        self.passenger=f\n",
    "        self.speed=g\n",
    "    def show(self):\n",
    "        super().show()\n",
    "        print(\"type:\",self.type,'\\n',\"passenger:\",self.passenger,'\\n',\"speed:\",self.speed,'\\n')\n",
    "    \n",
    "class truck(vehicle):\n",
    "    def __init__(self,a,b,c,d,e,f,g,x,y):\n",
    "        super().__init__(a,b,c,d)\n",
    "        self.axle=x\n",
    "        self.load=y\n",
    "    def show(self):\n",
    "        super().show()\n",
    "        print(\"axle:\",self.axle,'\\n',\"load:\",self.load,'\\n')\n",
    "\n",
    "obj1=car(\"550cc\",2305,6000000,\"black\",\"wr\",500,\"100km/hr\")\n",
    "obj1.show()"
   ]
  },
  {
   "cell_type": "code",
   "execution_count": null,
   "id": "b60b41d1-d926-4f5d-85be-0f0558c4b925",
   "metadata": {},
   "outputs": [],
   "source": []
  },
  {
   "cell_type": "code",
   "execution_count": 18,
   "id": "388e512f-ec25-4fa8-ae60-588a22b4c793",
   "metadata": {},
   "outputs": [
    {
     "name": "stdout",
     "output_type": "stream",
     "text": [
      "eID: 120 \n",
      " ename: xyz \n",
      " esal: 75000\n",
      "work type: pa \n",
      " work area: site \n",
      "\n",
      "eID: 42 \n",
      " ename: rumana \n",
      " esal: 1500000\n",
      "module: front end \n",
      " tech: html \n",
      " experience: 3 years \n",
      "\n",
      "eID: 47 \n",
      " ename: abc \n",
      " esal: 150000\n",
      "project: app development \n",
      " client name: xyz \n",
      "\n"
     ]
    }
   ],
   "source": [
    "class employee:\n",
    "    def __init__(self,i,n,s):\n",
    "        self.eid=i\n",
    "        self.name=n\n",
    "        self.sal=s\n",
    "    def show(self):\n",
    "        print(\"eID:\",self.eid,'\\n',\"ename:\",self.name,'\\n',\"esal:\",self.sal)\n",
    "\n",
    "class staff(employee):\n",
    "    def __init__(self,i,n,s,a,b):\n",
    "        super().__init__(i,n,s)\n",
    "        self.type=a\n",
    "        self.area=b\n",
    "    def show(self):\n",
    "        super().show()\n",
    "        print(\"work type:\",self.type,'\\n',\"work area:\",self.area,'\\n')\n",
    "\n",
    "class developer(employee):\n",
    "    def __init__(self,i,n,s,a,b,m,t,e):\n",
    "        super().__init__(i,n,s)\n",
    "        self.module=m\n",
    "        self.tech=t\n",
    "        self.experience=e\n",
    "    def show(self):\n",
    "        super().show()\n",
    "        print(\"module:\",self.module,'\\n',\"tech:\",self.tech,'\\n',\"experience:\",self.experience,'\\n')\n",
    "\n",
    "class manager(employee):\n",
    "    def __init__(self,i,n,s,a,b,m,t,e,p,c):\n",
    "        super().__init__(i,n,s)\n",
    "        self.project=p\n",
    "        self.client=c\n",
    "    def show(self):\n",
    "        super().show()\n",
    "        print(\"project:\",self.project,'\\n',\"client name:\",self.client,'\\n')\n",
    "\n",
    "obj1=staff(120,\"xyz\",75000,\"pa\",\"site\")\n",
    "obj1.show()\n",
    "\n",
    "obj2=developer(42,\"rumana\",1500000,\"developer\",\"office\",\"front end\",\"html\",\"3 years\")\n",
    "obj2.show()\n",
    "\n",
    "obj3=manager(47,\"abc\",150000,\"developer\",\"office\",\"front end\",\"html\",\"3 years\",\"app development\",\"xyz\")\n",
    "obj3.show()\n",
    "\n",
    "\n"
   ]
  },
  {
   "cell_type": "code",
   "execution_count": 22,
   "id": "6461b599-ea94-4f4f-897d-683bc7b9eb85",
   "metadata": {},
   "outputs": [
    {
     "name": "stdout",
     "output_type": "stream",
     "text": [
      "* \n",
      "* * \n",
      "* * * \n",
      "* * * * \n",
      "* * * * * \n"
     ]
    }
   ],
   "source": [
    "#pattern printing\n",
    "for y in range(0,5):\n",
    "    for x in range(0,y+1):\n",
    "        print(\"*\",end=\" \")\n",
    "    print()"
   ]
  },
  {
   "cell_type": "code",
   "execution_count": 42,
   "id": "26b47cb1-e027-429a-b8e1-315c4dbc4dc0",
   "metadata": {},
   "outputs": [
    {
     "name": "stdout",
     "output_type": "stream",
     "text": [
      "* * * * * * * * \n",
      "* * * * * * * * \n",
      "* * * * * * * * \n",
      "* * * * * * * * \n",
      "* * * * * * * * \n",
      "* * * * * * * * \n",
      "* * * * * * * * \n",
      "* * * * * * * * \n"
     ]
    }
   ],
   "source": [
    "for y in range(0,8):\n",
    "    for x in range(0,x+1):\n",
    "        print(\"*\",end=\" \")\n",
    "    print()"
   ]
  },
  {
   "cell_type": "code",
   "execution_count": 2,
   "id": "0f97a2b1-6a95-49f0-a07e-cf511f9ad8e1",
   "metadata": {},
   "outputs": [
    {
     "name": "stdout",
     "output_type": "stream",
     "text": [
      " * * * * * * *\n",
      " * * * * * *\n",
      " * * * * *\n",
      " * * * *\n",
      " * * *\n",
      " * *\n",
      " *\n"
     ]
    }
   ],
   "source": [
    "for i in range(0,7):\n",
    "    for j in range(0,7-i):\n",
    "        print(\" *\",end=\"\")\n",
    "    print()    "
   ]
  },
  {
   "cell_type": "code",
   "execution_count": 33,
   "id": "23678a2e-2220-41e2-9494-0c0f9cf38748",
   "metadata": {},
   "outputs": [
    {
     "name": "stdout",
     "output_type": "stream",
     "text": [
      "1 0 \n",
      "1 0 1 0 \n",
      "1 0 1 0 1 0 \n",
      "1 0 1 0 1 0 1 0 \n"
     ]
    }
   ],
   "source": [
    "\n",
    "for y in range(0,4):\n",
    "    for x in range(0,y+1):\n",
    "        print(\"1\",end=\" \")\n",
    "        print(\"0\",end=\" \")\n",
    "    print()"
   ]
  },
  {
   "cell_type": "code",
   "execution_count": 46,
   "id": "614c9281-a2bb-4433-ac0a-a2d08702d839",
   "metadata": {},
   "outputs": [
    {
     "name": "stdout",
     "output_type": "stream",
     "text": [
      "\n",
      "1 \n",
      "2 3 \n",
      "3 4 5 \n",
      "4 5 6 7 \n"
     ]
    }
   ],
   "source": [
    "for x in range(0,5):\n",
    "    for y in range(1,x+1):\n",
    "        print(x,end=\" \")\n",
    "        x=x+1\n",
    "    print()\n",
    "        "
   ]
  },
  {
   "cell_type": "code",
   "execution_count": 51,
   "id": "3899a42b-9c06-408f-a6f4-4e575568c9f5",
   "metadata": {},
   "outputs": [
    {
     "name": "stdout",
     "output_type": "stream",
     "text": [
      "* * * * * \n",
      "*       * \n",
      "*       * \n",
      "*       * \n",
      "* * * * * \n"
     ]
    }
   ],
   "source": [
    "for i in range(0,5):\n",
    "    for j in range(0,5):\n",
    "        if i==(5-1) or j==(5-1) or i==0 or j==0:\n",
    "            print(\"*\",end=\" \")\n",
    "        else:\n",
    "            print(\" \",end=\" \")\n",
    "\n",
    "    print()\n",
    "        "
   ]
  },
  {
   "cell_type": "code",
   "execution_count": null,
   "id": "db3fee2d-443c-44d1-816b-58b187a6c7d0",
   "metadata": {},
   "outputs": [],
   "source": []
  }
 ],
 "metadata": {
  "kernelspec": {
   "display_name": "Python 3 (ipykernel)",
   "language": "python",
   "name": "python3"
  },
  "language_info": {
   "codemirror_mode": {
    "name": "ipython",
    "version": 3
   },
   "file_extension": ".py",
   "mimetype": "text/x-python",
   "name": "python",
   "nbconvert_exporter": "python",
   "pygments_lexer": "ipython3",
   "version": "3.12.3"
  }
 },
 "nbformat": 4,
 "nbformat_minor": 5
}
