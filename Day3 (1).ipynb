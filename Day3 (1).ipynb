{
 "cells": [
  {
   "cell_type": "code",
   "execution_count": 1,
   "id": "6cc7e786-5882-480d-8896-97aa220a8e52",
   "metadata": {},
   "outputs": [
    {
     "name": "stdout",
     "output_type": "stream",
     "text": [
      "[1, 2, 3, 4, 5]\n",
      "4\n",
      "[1, 2, 3, 5]\n",
      "[1, 2, 3, 5, 10]\n",
      "2\n",
      "[1, 2, 3, 5, 10, 6, 7, 8]\n",
      "2\n",
      "None\n",
      "[1, 2, 3, 5, 9, 10, 6, 7, 8]\n",
      "[1, 2, 5, 9, 10, 6, 7, 8]\n",
      "[1, 2, 5, 6, 7, 8, 9, 10]\n",
      "[10, 9, 8, 7, 6, 5, 2, 1]\n",
      "8\n",
      "[10, 9, 8, 7, 6, 5, 2, 1, 1, 2, 3, 4, 5]\n",
      "10\n",
      "9\n",
      "8\n",
      "7\n",
      "6\n",
      "5\n",
      "3\n",
      "3\n",
      "2\n",
      "1\n",
      "11\n",
      "3\n",
      "34\n",
      "53\n",
      "57\n",
      "68\n"
     ]
    }
   ],
   "source": [
    "a=[1,2,3,4,5]\n",
    "b=a.copy()\n",
    "print(b)\n",
    "\n",
    "c=b.pop(3)\n",
    "print(c)\n",
    "\n",
    "print(b)\n",
    "b.append(10)\n",
    "print(b)\n",
    "\n",
    "print(b.index(3))\n",
    "b.append(6)\n",
    "b.append(7)\n",
    "b.append(8)\n",
    "print(b)\n",
    "\n",
    "print(b.index(3))\n",
    "print(b.insert(4,9))\n",
    "print(b)\n",
    "\n",
    "b.remove(3)\n",
    "print(b)\n",
    "\n",
    "b.sort()\n",
    "print(b)\n",
    "\n",
    "b.sort(reverse=True)\n",
    "print(b)\n",
    "print(len(b))\n",
    "\n",
    "b.extend(a)\n",
    "print(b)\n",
    "\n",
    "#for each loop\n",
    "a=[10,9,8,7,6,5,3,3,2,1,11,3,34,53,57,68]\n",
    "for x in a:\n",
    "    print(x)\n",
    "      \n"
   ]
  },
  {
   "cell_type": "code",
   "execution_count": 3,
   "id": "46caa8ba-536a-4256-a4f0-4de746e23cf1",
   "metadata": {},
   "outputs": [
    {
     "name": "stdin",
     "output_type": "stream",
     "text": [
      "enter size of list 3\n",
      " 22\n",
      " 12\n",
      " 23\n"
     ]
    },
    {
     "name": "stdout",
     "output_type": "stream",
     "text": [
      "['22', '12', '23']\n"
     ]
    }
   ],
   "source": [
    "#taking inp from user\n",
    "n=int(input(\"enter size of list\"))\n",
    "a=[]\n",
    "for x in range(0,n):\n",
    "    x=input()\n",
    "    a.append(x)\n",
    "print(a)    \n",
    "    "
   ]
  },
  {
   "cell_type": "code",
   "execution_count": 7,
   "id": "b8d96d26-d708-45f3-9ca0-7e2b8a1eb1d5",
   "metadata": {},
   "outputs": [
    {
     "name": "stdin",
     "output_type": "stream",
     "text": [
      "enter elements of list 12 45 65 45\n"
     ]
    },
    {
     "name": "stdout",
     "output_type": "stream",
     "text": [
      "[12, 45, 65, 45]\n"
     ]
    }
   ],
   "source": [
    "# another example for input from user\n",
    "L=[int(item) for item in(input(\"enter elements of list\").split())]\n",
    "print(L)   "
   ]
  },
  {
   "cell_type": "code",
   "execution_count": 8,
   "id": "2912de54-43b6-4f57-b0f2-32bf98e798df",
   "metadata": {},
   "outputs": [
    {
     "name": "stdout",
     "output_type": "stream",
     "text": [
      "(1, 2, 3, 4, 5.5, 6, 'RUMANA')\n"
     ]
    }
   ],
   "source": [
    "#TUPLES\n",
    "#we cannot change anything once a tuple is created ,if we need to change then tuple must b converted into list\n",
    "#in tuples all functions do not work only copy()\n",
    "# we use tuples for data security because once created data cannot b changed by others.\n",
    "a=(1,2,3,4,5.5,6,'RUMANA')\n",
    "print(a)"
   ]
  },
  {
   "cell_type": "code",
   "execution_count": 9,
   "id": "5b5e46a2-ec39-483e-b8ac-0be800bedaa5",
   "metadata": {},
   "outputs": [
    {
     "name": "stdout",
     "output_type": "stream",
     "text": [
      "7\n",
      "4\n",
      "2\n",
      "3\n",
      "1\n"
     ]
    }
   ],
   "source": [
    "#reverse of list without using fun\n",
    "a=[1,3,2,4,7] \n",
    "for x in range(-1,-1*(len(a)+1),-1):\n",
    "    print(a[x])\n"
   ]
  },
  {
   "cell_type": "code",
   "execution_count": null,
   "id": "64729759-31aa-467f-ae7a-4fa568d78222",
   "metadata": {},
   "outputs": [],
   "source": []
  }
 ],
 "metadata": {
  "kernelspec": {
   "display_name": "Python 3 (ipykernel)",
   "language": "python",
   "name": "python3"
  },
  "language_info": {
   "codemirror_mode": {
    "name": "ipython",
    "version": 3
   },
   "file_extension": ".py",
   "mimetype": "text/x-python",
   "name": "python",
   "nbconvert_exporter": "python",
   "pygments_lexer": "ipython3",
   "version": "3.12.3"
  }
 },
 "nbformat": 4,
 "nbformat_minor": 5
}
