{
 "cells": [
  {
   "cell_type": "code",
   "execution_count": 7,
   "id": "2b1ef80e-74c8-4550-856c-182b68a91330",
   "metadata": {},
   "outputs": [
    {
     "name": "stdin",
     "output_type": "stream",
     "text": [
      " 5\n"
     ]
    },
    {
     "name": "stdout",
     "output_type": "stream",
     "text": [
      "Weird\n"
     ]
    }
   ],
   "source": [
    "#!/bin/python3\n",
    "\n",
    "import math\n",
    "import os\n",
    "import random\n",
    "import re\n",
    "import sys\n",
    "\n",
    "\n",
    "\n",
    "if __name__ == '__main__':\n",
    "    z = int(input().strip())\n",
    "    if z%2 !=0:\n",
    "        print(\"Weird\")\n",
    "    elif z%2==0 and z>=2 and z<5:\n",
    "        print(\"Not Weird\")\n",
    "    elif z%2==0 and z>=6 and z<=20:\n",
    "        print(\"Weird\")\n",
    "    elif z%2==0 and z>20:\n",
    "        print(\"Not Weird\")\n",
    "            \n",
    "              \n"
   ]
  },
  {
   "cell_type": "code",
   "execution_count": 1,
   "id": "81e02a7f-a386-493a-9095-be88bae1f0d4",
   "metadata": {},
   "outputs": [
    {
     "name": "stdin",
     "output_type": "stream",
     "text": [
      " 3\n",
      " 5\n"
     ]
    },
    {
     "name": "stdout",
     "output_type": "stream",
     "text": [
      "8\n",
      "-2\n",
      "15\n"
     ]
    }
   ],
   "source": [
    "if __name__ == '__main__':\n",
    "    a = int(input())\n",
    "    b = int(input())\n",
    "    print(a+b)\n",
    "    print(a-b)\n",
    "    print(a*b)"
   ]
  },
  {
   "cell_type": "code",
   "execution_count": 8,
   "id": "92eb6fd5-dd87-49dc-a7e9-c5cfbf709e7c",
   "metadata": {},
   "outputs": [
    {
     "name": "stdin",
     "output_type": "stream",
     "text": [
      " 5\n",
      " 9\n"
     ]
    },
    {
     "name": "stdout",
     "output_type": "stream",
     "text": [
      "0\n",
      "0.5555555555555556\n"
     ]
    }
   ],
   "source": [
    "if __name__ == '__main__':\n",
    "    a = int(input())\n",
    "    b = int(input())\n",
    "    print(int(a/b))\n",
    "    print(float(a/b))\n"
   ]
  },
  {
   "cell_type": "code",
   "execution_count": 9,
   "id": "d29046ff-e059-484c-b88f-2ad5ff8c642d",
   "metadata": {},
   "outputs": [
    {
     "name": "stdin",
     "output_type": "stream",
     "text": [
      " 5\n"
     ]
    },
    {
     "name": "stdout",
     "output_type": "stream",
     "text": [
      "0\n",
      "1\n",
      "4\n",
      "9\n",
      "16\n"
     ]
    }
   ],
   "source": [
    "if __name__ == '__main__':\n",
    "    n = int(input())\n",
    "    for x in range(0,n):\n",
    "        print(x*x)\n"
   ]
  },
  {
   "cell_type": "code",
   "execution_count": null,
   "id": "ea2f4cd4-3eed-4127-9e83-26aaa5460001",
   "metadata": {},
   "outputs": [],
   "source": []
  }
 ],
 "metadata": {
  "kernelspec": {
   "display_name": "Python 3 (ipykernel)",
   "language": "python",
   "name": "python3"
  },
  "language_info": {
   "codemirror_mode": {
    "name": "ipython",
    "version": 3
   },
   "file_extension": ".py",
   "mimetype": "text/x-python",
   "name": "python",
   "nbconvert_exporter": "python",
   "pygments_lexer": "ipython3",
   "version": "3.12.3"
  }
 },
 "nbformat": 4,
 "nbformat_minor": 5
}
