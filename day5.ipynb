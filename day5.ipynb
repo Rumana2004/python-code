{
 "cells": [
  {
   "cell_type": "code",
   "execution_count": 10,
   "id": "4bbd9b73-d5fb-4e5b-a84a-4d223bae1a4d",
   "metadata": {},
   "outputs": [
    {
     "name": "stdout",
     "output_type": "stream",
     "text": [
      "laptop consists of processor,ram,storage\n",
      "processor i7\n",
      "ram 8gb\n",
      "storage 64gb\n",
      "laptop consists of processor,ram,storage\n",
      "processor i5\n",
      "ram 8gb\n",
      "storage 64gb\n",
      "laptop consists of processor,ram,storage\n",
      "processor i3\n",
      "ram 8gb\n",
      "storage 64gb\n"
     ]
    }
   ],
   "source": [
    "#OOPS\n",
    "class laptop:\n",
    "    def __init__(self,value1,value2,value3):\n",
    "        self.processor=value1\n",
    "        self.ram=value2\n",
    "        self.storage=value3\n",
    "    def config(self):\n",
    "        print(\"laptop consists of processor,ram,storage\")\n",
    "        print(\"processor\",self.processor)\n",
    "        print(\"ram\",self.ram)\n",
    "        print(\"storage\",self.storage)\n",
    "    \n",
    "\n",
    "if __name__==\"__main__\":\n",
    "    asus=laptop(\"i5\",\"8gb\",\"64gb\")\n",
    "    hp=laptop(\"i7\",\"8gb\",\"64gb\")\n",
    "    dell=laptop(\"i3\",\"8gb\",\"64gb\")\n",
    "\n",
    "   \n",
    "    hp.config()\n",
    "    asus.config()\n",
    "    dell.config()\n"
   ]
  },
  {
   "cell_type": "code",
   "execution_count": 15,
   "id": "589cbba0-3ce5-407b-8770-cc36fa1cac2e",
   "metadata": {},
   "outputs": [
    {
     "name": "stdout",
     "output_type": "stream",
     "text": [
      "students marks in 5 sub:\n",
      "eng: 45\n",
      "science: 67\n",
      "maths: 89\n",
      "social: 28\n",
      "hindi: 38\n",
      "average is 53.4\n",
      "students marks in 5 sub:\n",
      "eng: 12\n",
      "science: 35\n",
      "maths: 57\n",
      "social: 26\n",
      "hindi: 56\n",
      "average is 37.2\n"
     ]
    }
   ],
   "source": [
    "#class student with 5 sub marks and their avg\n",
    "class student:\n",
    "    def __init__(self,mark1,mark2,mark3,mark4,mark5):\n",
    "        self.eng=mark1\n",
    "        self.science=mark2\n",
    "        self.maths=mark3\n",
    "        self.social=mark4\n",
    "        self.hindi=mark5\n",
    "    def config(self):\n",
    "        print(\"students marks in 5 sub:\")\n",
    "        print(\"eng:\",self.eng)\n",
    "        print(\"science:\",self.science)\n",
    "        print(\"maths:\",self.maths)\n",
    "        print(\"social:\",self.social)\n",
    "        print(\"hindi:\",self.hindi)\n",
    "    def avg(self):\n",
    "        avg=(self.eng+self.science+self.maths+self.social+self.hindi)/5\n",
    "        print(\"average is\",avg)\n",
    "\n",
    "if __name__==\"__main__\":\n",
    "    rumana=student(45,67,89,28,38)\n",
    "    xyz=student(12,35,57,26,56)\n",
    "    rumana.config()\n",
    "    rumana.avg()\n",
    "    xyz.config()\n",
    "    xyz.avg()"
   ]
  },
  {
   "cell_type": "code",
   "execution_count": 4,
   "id": "e082e0cd-9145-4de2-988a-868fb88ab17f",
   "metadata": {},
   "outputs": [
    {
     "name": "stdout",
     "output_type": "stream",
     "text": [
      "gamming laptop has:\n",
      "processor: i5\n",
      "ram: 64\n",
      "storage: 512\n",
      "graphics card: 5000\n",
      "professional laptop has:\n",
      "processor: i3\n",
      "ram: 8\n",
      "storage: 16\n",
      "battery backup: 5000\n",
      "laptop has\n",
      "processor: i3\n",
      "ram: 16\n",
      "storage: 63\n"
     ]
    }
   ],
   "source": [
    "#INHERITANCE\n",
    "class laptop:\n",
    "    def __init__(self,v1,v2,v3):\n",
    "        self.processor=v1\n",
    "        self.ram=v2\n",
    "        self.storage=v3\n",
    "    def show(self):\n",
    "         print(\"laptop has\")\n",
    "         print(\"processor:\",self.processor)\n",
    "         print(\"ram:\",self.ram)\n",
    "         print(\"storage:\",self.storage)\n",
    "\n",
    "class professionallaptop(laptop):\n",
    "    def __init__(self,v1,v2,v3,a):\n",
    "        self.batterybackup=a\n",
    "        super().__init__(v1,v2,v3)\n",
    "    def show(self):\n",
    "        print(\"professional laptop has:\")\n",
    "        print(\"processor:\",self.processor)\n",
    "        print(\"ram:\",self.ram)\n",
    "        print(\"storage:\",self.storage)\n",
    "        print(\"battery backup:\",self.batterybackup)\n",
    "\n",
    "\n",
    "class gamminglaptop(laptop):\n",
    "    def __init__(self,v1,v2,v3,b):\n",
    "        self.graphiccard=b\n",
    "        super().__init__(v1,v2,v3)\n",
    "    def show(self):\n",
    "        print(\"gamming laptop has:\")\n",
    "        print(\"processor:\",self.processor)\n",
    "        print(\"ram:\",self.ram)\n",
    "        print(\"storage:\",self.storage)\n",
    "        print(\"graphics card:\",self.graphiccard)\n",
    "        \n",
    "pro1=professionallaptop(\"i3\",8,16,5000)\n",
    "gam=gamminglaptop(\"i5\",64,512,5000)\n",
    "obj1=laptop(\"i3\",16,63)\n",
    "gam.show()\n",
    "pro1.show()\n",
    "obj1.show()\n",
    "\n",
    "        \n",
    "        "
   ]
  },
  {
   "cell_type": "code",
   "execution_count": 12,
   "id": "c47af3a3-8a5b-4009-8ed9-115a14afe152",
   "metadata": {},
   "outputs": [
    {
     "name": "stdout",
     "output_type": "stream",
     "text": [
      "Ticket booked Fare Price will be:  2050\n"
     ]
    }
   ],
   "source": [
    "#Railway ticket booking Management\n",
    "class ticket:\n",
    "   \n",
    "    def __init__(self,D):\n",
    "        self.distance = int(D)\n",
    "        self.farePrice = None\n",
    "\n",
    "class gen(ticket):\n",
    "    def __init__(self,D):\n",
    "        super().__init__(D)\n",
    "    def print_ticket(self):\n",
    "        self.farePrice=50+(self.distance*2)\n",
    "        return self.farePrice\n",
    "        \n",
    "\n",
    "\n",
    "class slp(gen):\n",
    "    def __init__(self,D):\n",
    "        super().__init__(D)\n",
    "\n",
    "    def print_ticket(self):\n",
    "        self.farePrice=super().print_ticket()+(2*self.distance)\n",
    "        return self.farePrice\n",
    "\n",
    "class AC(slp):\n",
    "    def _init_(self,D):\n",
    "        super().__init__(D)\n",
    "    def print_ticket(self):\n",
    "        self.farePrice=super().print_ticket()+(4*self.distance)\n",
    "        return self.farePrice\n",
    "\n",
    "class FC(AC):\n",
    "    def _init_(self,D):\n",
    "        super().__init__(D)\n",
    "    def print_ticket(self):\n",
    "        self.farePrice=super().print_ticket()+(5*self.distance)\n",
    "        return self.farePrice\n",
    "\n",
    "\n",
    "jur = slp(500)\n",
    "print(\"Ticket booked Fare Price will be: \",jur.print_ticket())"
   ]
  },
  {
   "cell_type": "code",
   "execution_count": null,
   "id": "9aca7a1f-5b26-4c99-a915-3110e5ec6ed0",
   "metadata": {},
   "outputs": [],
   "source": []
  }
 ],
 "metadata": {
  "kernelspec": {
   "display_name": "Python 3 (ipykernel)",
   "language": "python",
   "name": "python3"
  },
  "language_info": {
   "codemirror_mode": {
    "name": "ipython",
    "version": 3
   },
   "file_extension": ".py",
   "mimetype": "text/x-python",
   "name": "python",
   "nbconvert_exporter": "python",
   "pygments_lexer": "ipython3",
   "version": "3.12.3"
  }
 },
 "nbformat": 4,
 "nbformat_minor": 5
}
