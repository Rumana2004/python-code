{
 "cells": [
  {
   "cell_type": "code",
   "execution_count": 1,
   "id": "fe683351-f021-490c-81aa-f9e13def5b6b",
   "metadata": {},
   "outputs": [
    {
     "name": "stdin",
     "output_type": "stream",
     "text": [
      "Enter the key:  5\n",
      "Enter value:  dfgh\n"
     ]
    },
    {
     "name": "stdout",
     "output_type": "stream",
     "text": [
      "Key added to the dictionary.\n"
     ]
    }
   ],
   "source": [
    "#wap to take key & value as input from the user n add it into the dic if key is not present in dic otherwise print key already exist n also prvalueint its corressponding \n",
    "D = {1: \"rumana\", 2: \"rr\", 3: \"rum\"}\n",
    "\n",
    "key = int(input(\"Enter the key: \"))\n",
    "value = input(\"Enter value: \")\n",
    "\n",
    "if key in D:\n",
    "    print(\"Key already exists\", D[key])\n",
    "else:\n",
    "    D[key] = value\n",
    "    print(\"Key added to the dictionary.\")\n",
    "\n"
   ]
  },
  {
   "cell_type": "code",
   "execution_count": 2,
   "id": "796a13f1-0fe7-4927-bae4-f1743ae0d005",
   "metadata": {},
   "outputs": [
    {
     "name": "stdin",
     "output_type": "stream",
     "text": [
      "enter index 5\n"
     ]
    },
    {
     "name": "stdout",
     "output_type": "stream",
     "text": [
      "6\n",
      "no error\n",
      "error handled\n"
     ]
    }
   ],
   "source": [
    "#EXCEPTION handling\n",
    "L=[1,2,0.3,4,5.5,6,\"str\",8,9,10]\n",
    "index=int(input(\"enter index\"))\n",
    "try:\n",
    "    L[index]\n",
    "    print(L[index])\n",
    "except:\n",
    "    print(\"index not available\")\n",
    "else:\n",
    "    print(\"no error\")\n",
    "finally:\n",
    "    print(\"error handled\")\n",
    "  \n",
    "    \n"
   ]
  },
  {
   "cell_type": "code",
   "execution_count": 4,
   "id": "f40562a2-ba78-46f7-a8a1-1b32b32afb33",
   "metadata": {},
   "outputs": [
    {
     "name": "stdin",
     "output_type": "stream",
     "text": [
      " 4\n",
      " 0\n"
     ]
    },
    {
     "name": "stdout",
     "output_type": "stream",
     "text": [
      "can't divide by zero\n",
      "code execution done\n"
     ]
    }
   ],
   "source": [
    "try:\n",
    "    a=input()\n",
    "    b=input()\n",
    "    c=int(a)/int(b)\n",
    "    x=\"hello\"/3\n",
    "except ValueError:\n",
    "    print(\"value unable to convert\")\n",
    "except ZeroDivisionError:\n",
    "    print(\"can't divide by zero\")\n",
    "except:\n",
    "    print(\"some unknown error\")\n",
    "else:\n",
    "    print(\"No error\")\n",
    "finally:\n",
    "    print(\"code execution done\")"
   ]
  },
  {
   "cell_type": "code",
   "execution_count": 5,
   "id": "608dd1b9-9c75-4920-bf91-b4edfa7b94cd",
   "metadata": {},
   "outputs": [
    {
     "name": "stdout",
     "output_type": "stream",
     "text": [
      "Average grade: 32.4\n"
     ]
    }
   ],
   "source": [
    "grades = {\n",
    "    \"xyz\":7.5 ,\n",
    "    \"yzx\": 9.0,\n",
    "    \"abc\": 7.9,\n",
    "    \"efg\": 8.0\n",
    "}\n",
    "average = 7.5+9.0+7.9+8.0\n",
    "if average is not None:\n",
    "    print(\"Average grade:\", average)\n",
    "else:\n",
    "    print(\"no grades\")"
   ]
  },
  {
   "cell_type": "code",
   "execution_count": 6,
   "id": "1e69cc72-918a-4f11-aa3d-86aabca9d92e",
   "metadata": {},
   "outputs": [
    {
     "name": "stdin",
     "output_type": "stream",
     "text": [
      "enter key: zoya\n"
     ]
    },
    {
     "name": "stdout",
     "output_type": "stream",
     "text": [
      "30\n",
      "avg is 25.0\n"
     ]
    }
   ],
   "source": [
    "dict={\"sarah\":10,\"rumaanna\":20,\"zoya\":30,\"sana\":40}\n",
    "key=input(\"enter key:\")\n",
    "try:\n",
    "    dict.get(key)\n",
    "except:\n",
    "    print(\"key not found\")\n",
    "else:\n",
    "    print(dict.get(key))\n",
    "    avg=(10+20+30+40)/4\n",
    "    print(\"avg is\",avg)"
   ]
  },
  {
   "cell_type": "code",
   "execution_count": 8,
   "id": "90b43fd3-c856-4f55-9fac-3dfc263f6063",
   "metadata": {},
   "outputs": [
    {
     "name": "stdin",
     "output_type": "stream",
     "text": [
      " madam\n"
     ]
    },
    {
     "name": "stdout",
     "output_type": "stream",
     "text": [
      "palindrome\n"
     ]
    }
   ],
   "source": [
    "#string palindrome\n",
    "a=input()\n",
    "flag=0\n",
    "for i in range(2,int(len(a)/2)):\n",
    "    if a%i==0:\n",
    "        flag=1\n",
    "        break\n",
    "if flag:\n",
    "    print(\"not palindrome\")\n",
    "else:\n",
    "    print(\"palindrome\")"
   ]
  },
  {
   "cell_type": "code",
   "execution_count": 10,
   "id": "d9ef0370-6f83-4f10-ab28-00323be06b0f",
   "metadata": {},
   "outputs": [
    {
     "name": "stdin",
     "output_type": "stream",
     "text": [
      " 11\n"
     ]
    },
    {
     "name": "stdout",
     "output_type": "stream",
     "text": [
      "prime\n"
     ]
    }
   ],
   "source": [
    "#prime number\n",
    "a=int(input())\n",
    "for x in range(2,int(a/2)):\n",
    "    if a%x==0:\n",
    "        print(\"not prime \")\n",
    "        break\n",
    "else:\n",
    "    print(\"prime\")"
   ]
  },
  {
   "cell_type": "code",
   "execution_count": null,
   "id": "864ea14c-ea26-423f-9584-33669a4bbe63",
   "metadata": {},
   "outputs": [],
   "source": [
    "#FILE SYSTEM\n",
    "import os\n",
    "if__name__=='__main__':\n",
    "   filename=\"example.txt\"\n",
    "   new_filename=\"new_example.txt\"\n",
    "\n",
    "   create_file(filename)\n",
    "   read_file(filename)\n",
    "   append_file(filename,\"this is some additional text.\\n\")\n",
    "   read_file(filename,new_filename)\n",
    "   rename_file(filename,new_filename)\n",
    "   read_file(new_filename)\n",
    "   delete_file(new_filename)"
   ]
  },
  {
   "cell_type": "code",
   "execution_count": null,
   "id": "eba1aa00-ae4c-40c1-ab2f-e2f24a570b26",
   "metadata": {},
   "outputs": [],
   "source": [
    "import os\n",
    "with open(\"rumana.txt\",'w') as f:\n",
    "    f.write(\"rumana's 1st file\")\n",
    "    f.close()"
   ]
  },
  {
   "cell_type": "code",
   "execution_count": null,
   "id": "0269f36a-02c8-4e30-99fd-b8f6bb7f9202",
   "metadata": {},
   "outputs": [],
   "source": [
    "import os\n",
    "with open(\"rumana.txt\",'r') as f:\n",
    "    b=f.read()\n",
    "    print(b)\n",
    "    f.close()"
   ]
  },
  {
   "cell_type": "code",
   "execution_count": null,
   "id": "10f9b628-3400-4408-a6d8-a7cb741fdb1e",
   "metadata": {},
   "outputs": [],
   "source": [
    "import os\n",
    "with open(\"rumana.txt\",'a') as f:\n",
    "    f.write(\"hello\")\n",
    "    f.close()\n"
   ]
  },
  {
   "cell_type": "code",
   "execution_count": null,
   "id": "c164f623-45e2-459f-8c72-688810d430dd",
   "metadata": {},
   "outputs": [],
   "source": [
    "import os\n",
    "os.rename(\"rumana.txt\",\"ur.txt\")\n",
    "f.close()"
   ]
  },
  {
   "cell_type": "code",
   "execution_count": 11,
   "id": "e8987101-9f8a-4835-80f8-b557d504cf37",
   "metadata": {},
   "outputs": [
    {
     "name": "stdin",
     "output_type": "stream",
     "text": [
      "enter temp in celcius 100\n"
     ]
    },
    {
     "name": "stdout",
     "output_type": "stream",
     "text": [
      "temp in F is: 212.0\n"
     ]
    }
   ],
   "source": [
    "#celcius to farenheit\n",
    "temp=int(input(\"enter temp in celcius\"))\n",
    "temp=temp*(9/5)+32\n",
    "print(\"temp in F is:\",temp)"
   ]
  },
  {
   "cell_type": "code",
   "execution_count": 12,
   "id": "0d5ef9d8-e51a-4ac9-8758-d5abc0b85f50",
   "metadata": {},
   "outputs": [
    {
     "name": "stdout",
     "output_type": "stream",
     "text": [
      "The second largest element is: 4\n"
     ]
    }
   ],
   "source": [
    "#second largest element in list\n",
    "\n",
    "l=[1, 2, 3, 4, 5]\n",
    "sorted_list = sorted(l, reverse=True)\n",
    "second_largest = sorted_list[1]\n",
    "print(\"The second largest element is:\", second_largest)\n"
   ]
  },
  {
   "cell_type": "code",
   "execution_count": null,
   "id": "d80610a5-dd8d-4e09-88b8-12e8cb8bd4df",
   "metadata": {},
   "outputs": [],
   "source": []
  }
 ],
 "metadata": {
  "kernelspec": {
   "display_name": "Python 3 (ipykernel)",
   "language": "python",
   "name": "python3"
  },
  "language_info": {
   "codemirror_mode": {
    "name": "ipython",
    "version": 3
   },
   "file_extension": ".py",
   "mimetype": "text/x-python",
   "name": "python",
   "nbconvert_exporter": "python",
   "pygments_lexer": "ipython3",
   "version": "3.12.3"
  }
 },
 "nbformat": 4,
 "nbformat_minor": 5
}
